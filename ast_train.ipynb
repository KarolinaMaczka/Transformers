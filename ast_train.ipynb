{
 "cells": [
  {
   "cell_type": "code",
   "execution_count": 1,
   "id": "ffea8706",
   "metadata": {},
   "outputs": [],
   "source": [
    "import pathlib\n",
    "from torch.utils.data import DataLoader \n",
    "from src.data_load import load_speech_commands, SpeechCommandsDataset\n",
    "from src.train_model import train_model\n",
    "from src.ast_model import ASTModel"
   ]
  },
  {
   "cell_type": "code",
   "execution_count": null,
   "id": "532a68d3",
   "metadata": {},
   "outputs": [],
   "source": [
    "# !pip install kaggle --upgrade\n",
    "\n",
    "# import os\n",
    "\n",
    "\n",
    "# !kaggle competitions download -c tensorflow-speech-recognition-challenge -p data/\n",
    "# !pip install py7zr --quiet\n",
    "# !pip install librosa"
   ]
  },
  {
   "cell_type": "code",
   "execution_count": 3,
   "id": "fae1bd3c",
   "metadata": {},
   "outputs": [],
   "source": [
    "# import zipfile\n",
    "# from pathlib import Path\n",
    "# import py7zr\n",
    "\n",
    "# DATA_ROOT = Path(\"data\")\n",
    "# DATA_ROOT.mkdir(exist_ok=True)\n",
    "\n",
    "# zip_path = DATA_ROOT / \"tensorflow-speech-recognition-challenge.zip\"\n",
    "# with zipfile.ZipFile(zip_path, \"r\") as z:\n",
    "#     z.extractall(DATA_ROOT)\n",
    "# print(\"Files in data:\", list(DATA_ROOT.iterdir()))\n",
    "\n",
    "# for archive_name, out_subdir in [(\"train.7z\", \"train\"), (\"test.7z\", \"test\"), (\"sample_submission.7z\", \"sample_submission\")]:\n",
    "#     in_path  = DATA_ROOT / archive_name\n",
    "#     out_path = DATA_ROOT / out_subdir\n",
    "#     out_path.mkdir(exist_ok=True)\n",
    "#     print(f\"Extracting {in_path} - {out_path}\")\n",
    "#     with py7zr.SevenZipFile(in_path, mode=\"r\") as archive:\n",
    "#         archive.extractall(path=out_path)\n",
    "\n",
    "# for d in DATA_ROOT.iterdir():\n",
    "#     print(d.name, \"-\", list(d.glob(\"*\"))[:5])"
   ]
  },
  {
   "cell_type": "code",
   "execution_count": 4,
   "id": "e3fb9db2",
   "metadata": {},
   "outputs": [],
   "source": [
    "train_data = load_speech_commands(\"data\", split=\"train\", max_files=32, other_label=\"unknown\")\n",
    "val_data   = load_speech_commands(\"data\", split=\"validation\", max_files=32, other_label=\"unknown\")"
   ]
  },
  {
   "cell_type": "code",
   "execution_count": 5,
   "id": "edb17ee0",
   "metadata": {},
   "outputs": [],
   "source": [
    "# test_data  = load_speech_commands(\"data\", split=\"test\", max_files=1)"
   ]
  },
  {
   "cell_type": "code",
   "execution_count": 6,
   "id": "c9441c54",
   "metadata": {},
   "outputs": [],
   "source": [
    "all_labels = sorted({lbl for _, lbl in train_data} | {lbl for _, lbl in val_data})\n",
    "label2id   = {lbl: i for i, lbl in enumerate(all_labels)}\n",
    "num_labels = len(set(lbl for _, lbl in train_data) | set(lbl for _, lbl in val_data))\n",
    "\n",
    "train_ds = SpeechCommandsDataset(train_data, label2id)\n",
    "val_ds   = SpeechCommandsDataset(val_data,   label2id)\n",
    "\n",
    "train_loader = DataLoader(\n",
    "    train_ds,\n",
    "    batch_size=32,\n",
    "    shuffle=True,\n",
    "    num_workers=0,\n",
    "    pin_memory=True\n",
    ")\n",
    "val_loader = DataLoader(\n",
    "    val_ds,\n",
    "    batch_size=32,\n",
    "    shuffle=False,\n",
    "    num_workers=0,\n",
    "    pin_memory=True\n",
    ")"
   ]
  },
  {
   "cell_type": "code",
   "execution_count": 7,
   "id": "ca4019b5",
   "metadata": {},
   "outputs": [],
   "source": [
    "model = ASTModel(num_labels)"
   ]
  },
  {
   "cell_type": "code",
   "execution_count": 8,
   "id": "f3e2560b",
   "metadata": {},
   "outputs": [
    {
     "data": {
      "text/plain": [
       "ASTConfig {\n",
       "  \"_attn_implementation_autoset\": true,\n",
       "  \"architectures\": [\n",
       "    \"ASTForAudioClassification\"\n",
       "  ],\n",
       "  \"attention_probs_dropout_prob\": 0.0,\n",
       "  \"frequency_stride\": 10,\n",
       "  \"hidden_act\": \"gelu\",\n",
       "  \"hidden_dropout_prob\": 0.0,\n",
       "  \"hidden_size\": 768,\n",
       "  \"id2label\": {\n",
       "    \"0\": \"LABEL_0\",\n",
       "    \"1\": \"LABEL_1\",\n",
       "    \"2\": \"LABEL_2\",\n",
       "    \"3\": \"LABEL_3\",\n",
       "    \"4\": \"LABEL_4\",\n",
       "    \"5\": \"LABEL_5\",\n",
       "    \"6\": \"LABEL_6\",\n",
       "    \"7\": \"LABEL_7\",\n",
       "    \"8\": \"LABEL_8\"\n",
       "  },\n",
       "  \"initializer_range\": 0.02,\n",
       "  \"intermediate_size\": 3072,\n",
       "  \"label2id\": {\n",
       "    \"LABEL_0\": 0,\n",
       "    \"LABEL_1\": 1,\n",
       "    \"LABEL_2\": 2,\n",
       "    \"LABEL_3\": 3,\n",
       "    \"LABEL_4\": 4,\n",
       "    \"LABEL_5\": 5,\n",
       "    \"LABEL_6\": 6,\n",
       "    \"LABEL_7\": 7,\n",
       "    \"LABEL_8\": 8\n",
       "  },\n",
       "  \"layer_norm_eps\": 1e-12,\n",
       "  \"max_length\": 128,\n",
       "  \"model_type\": \"audio-spectrogram-transformer\",\n",
       "  \"num_attention_heads\": 12,\n",
       "  \"num_hidden_layers\": 12,\n",
       "  \"num_mel_bins\": 128,\n",
       "  \"patch_size\": 16,\n",
       "  \"qkv_bias\": true,\n",
       "  \"time_stride\": 10,\n",
       "  \"torch_dtype\": \"float32\",\n",
       "  \"transformers_version\": \"4.51.3\"\n",
       "}"
      ]
     },
     "execution_count": 8,
     "metadata": {},
     "output_type": "execute_result"
    }
   ],
   "source": [
    "model.config"
   ]
  },
  {
   "cell_type": "code",
   "execution_count": 12,
   "id": "887e67af",
   "metadata": {},
   "outputs": [
    {
     "name": "stdout",
     "output_type": "stream",
     "text": [
      "Model 1, params {'num_attention_heads': 12, 'head_dim': 128, 'num_hidden_layers': 6, 'hidden_dropout_prob': 0.0, 'attention_probs_dropout_prob': 0.1, 'classifier_dropout': 0.1, 'initializer_range': 0.01, 'hidden_size': 1536, 'intermediate_size': 6144}, learning rate 0.0001\n",
      "Setting attribute num_attention_heads to 12\n",
      "Setting attribute num_hidden_layers to 6\n",
      "Setting attribute hidden_dropout_prob to 0.0\n",
      "Setting attribute attention_probs_dropout_prob to 0.1\n",
      "Setting attribute initializer_range to 0.01\n",
      "Setting attribute hidden_size to 1536\n",
      "Setting attribute intermediate_size to 6144\n"
     ]
    },
    {
     "name": "stderr",
     "output_type": "stream",
     "text": [
      "c:\\Users\\karim\\AppData\\Local\\Programs\\Python\\Python312\\Lib\\site-packages\\torch\\utils\\data\\dataloader.py:665: UserWarning: 'pin_memory' argument is set as true but no accelerator is found, then device pinned memory won't be used.\n",
      "  warnings.warn(warn_msg)\n",
      "c:\\Users\\karim\\AppData\\Local\\Programs\\Python\\Python312\\Lib\\site-packages\\sklearn\\metrics\\_classification.py:1565: UndefinedMetricWarning: F-score is ill-defined and being set to 0.0 in labels with no true nor predicted samples. Use `zero_division` parameter to control this behavior.\n",
      "  _warn_prf(average, modifier, f\"{metric.capitalize()} is\", len(result))\n",
      "c:\\Users\\karim\\AppData\\Local\\Programs\\Python\\Python312\\Lib\\site-packages\\torch\\utils\\data\\dataloader.py:665: UserWarning: 'pin_memory' argument is set as true but no accelerator is found, then device pinned memory won't be used.\n",
      "  warnings.warn(warn_msg)\n",
      "c:\\Users\\karim\\AppData\\Local\\Programs\\Python\\Python312\\Lib\\site-packages\\sklearn\\metrics\\_classification.py:1565: UndefinedMetricWarning: F-score is ill-defined and being set to 0.0 in labels with no true nor predicted samples. Use `zero_division` parameter to control this behavior.\n",
      "  _warn_prf(average, modifier, f\"{metric.capitalize()} is\", len(result))\n"
     ]
    },
    {
     "name": "stdout",
     "output_type": "stream",
     "text": [
      "Epoch 1/1 - Train loss: 2.2553, Train F1: 0.0185 | Val loss: 3.1728, Val Acc: 0.6562, Val F1: 0.0881\n"
     ]
    }
   ],
   "source": [
    "import os\n",
    "import random\n",
    "import json\n",
    "\n",
    "param_space = {\n",
    "    'num_attention_heads':    [6, 12, 18],  \n",
    "    'head_dim':               [32, 64, 128],  \n",
    "    'num_hidden_layers':      [6, 12, 18],\n",
    "    'hidden_dropout_prob':    [0.0, 0.1, 0.2, 0.3], \n",
    "    'attention_probs_dropout_prob': [0.0, 0.1, 0.2, 0.3],\n",
    "    'classifier_dropout':     [0.0, 0.1, 0.2, 0.3],  \n",
    "    'initializer_range':      [0.01, 0.02]\n",
    "}\n",
    "\n",
    "training_params = {\n",
    "    'lr': [1e-3, 1e-4]\n",
    "}\n",
    "\n",
    "def sample_hparams():\n",
    "    hp = {k: random.choice(v) for k, v in param_space.items()}\n",
    "    hp['hidden_size']       = hp['num_attention_heads'] * hp['head_dim']\n",
    "    hp['intermediate_size'] = hp['hidden_size'] * 4\n",
    "    return hp\n",
    "\n",
    "results = []\n",
    "\n",
    "for trial in range(1, 2):\n",
    "    hparams = sample_hparams()\n",
    "    lr = random.choice(training_params['lr'])\n",
    "    print(f'Model {trial}, params {hparams}, learning rate {lr}')\n",
    "    run_dir = f\"runs/trial_{trial}\"\n",
    "    os.makedirs(run_dir, exist_ok=True)\n",
    "    with open(os.path.join(run_dir, \"hparams.json\"), \"w\") as fp:\n",
    "        json.dump({**hparams, 'lr': lr}, fp, indent=2)\n",
    "\n",
    "    model = ASTModel(num_labels=num_labels, **hparams)\n",
    "\n",
    "    train_model(\n",
    "        model,\n",
    "        train_loader,\n",
    "        val_loader,\n",
    "        epochs=1,\n",
    "        lr=lr,         \n",
    "        device=None,\n",
    "        output_dir=run_dir,\n",
    "        patience = 5,\n",
    "        label2id=label2id\n",
    "    )\n",
    "\n",
    "    results.append({'trial': trial, **hparams, 'lr': lr})\n"
   ]
  },
  {
   "cell_type": "code",
   "execution_count": 11,
   "id": "9eb13acf",
   "metadata": {},
   "outputs": [
    {
     "ename": "TypeError",
     "evalue": "train_model() missing 1 required positional argument: 'label2id'",
     "output_type": "error",
     "traceback": [
      "\u001b[1;31m---------------------------------------------------------------------------\u001b[0m",
      "\u001b[1;31mTypeError\u001b[0m                                 Traceback (most recent call last)",
      "Cell \u001b[1;32mIn[11], line 1\u001b[0m\n\u001b[1;32m----> 1\u001b[0m trained_model \u001b[38;5;241m=\u001b[39m \u001b[43mtrain_model\u001b[49m\u001b[43m(\u001b[49m\u001b[43mmodel\u001b[49m\u001b[43m,\u001b[49m\u001b[43m \u001b[49m\u001b[43mtrain_loader\u001b[49m\u001b[43m,\u001b[49m\u001b[43m \u001b[49m\u001b[43mval_loader\u001b[49m\u001b[43m,\u001b[49m\u001b[43m \u001b[49m\u001b[43mepochs\u001b[49m\u001b[38;5;241;43m=\u001b[39;49m\u001b[38;5;241;43m2\u001b[39;49m\u001b[43m,\u001b[49m\u001b[43m \u001b[49m\u001b[43mlr\u001b[49m\u001b[38;5;241;43m=\u001b[39;49m\u001b[38;5;241;43m1e-4\u001b[39;49m\u001b[43m)\u001b[49m\n",
      "\u001b[1;31mTypeError\u001b[0m: train_model() missing 1 required positional argument: 'label2id'"
     ]
    }
   ],
   "source": [
    "trained_model = train_model(model, train_loader, val_loader, epochs=2, lr=1e-4)"
   ]
  }
 ],
 "metadata": {
  "kernelspec": {
   "display_name": "Python 3",
   "language": "python",
   "name": "python3"
  },
  "language_info": {
   "codemirror_mode": {
    "name": "ipython",
    "version": 3
   },
   "file_extension": ".py",
   "mimetype": "text/x-python",
   "name": "python",
   "nbconvert_exporter": "python",
   "pygments_lexer": "ipython3",
   "version": "3.12.0"
  }
 },
 "nbformat": 4,
 "nbformat_minor": 5
}
